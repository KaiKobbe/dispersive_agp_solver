{
 "cells": [
  {
   "cell_type": "markdown",
   "metadata": {},
   "source": [
    "# Evaluating solvers for the DISPERSIVE ART GALLERY PROBLEM"
   ]
  },
  {
   "cell_type": "code",
   "execution_count": 32,
   "metadata": {},
   "outputs": [],
   "source": [
    "from algbench import read_as_pandas\n",
    "import matplotlib.pyplot as plt\n",
    "import numpy as np\n",
    "import seaborn as sns\n",
    "\n",
    "plt.style.use('ggplot')\n",
    "plt.rcParams['axes.facecolor'] = '#EAEDEF'\n",
    "plt.rcParams['font.family'] = 'serif'\n",
    "plt.rcParams['text.usetex'] = True\n",
    "plt.rcParams['font.size'] = 10\n",
    "\n",
    "ROUNDING = 40"
   ]
  },
  {
   "cell_type": "markdown",
   "metadata": {},
   "source": [
    "# Read Data from Benchmark"
   ]
  },
  {
   "cell_type": "code",
   "execution_count": 33,
   "metadata": {},
   "outputs": [],
   "source": [
    "df = read_as_pandas(\n",
    "    \"./disp_agp_benchmark\",\n",
    "    lambda result: {\n",
    "        \"instance\": result[\"parameters\"][\"args\"][\"instance_name\"],\n",
    "        \"size\": result[\"parameters\"][\"args\"][\"size\"],\n",
    "        \"backend\": result[\"parameters\"][\"args\"][\"alg_params\"][\"backend\"],\n",
    "        \"obj\": result[\"result\"][\"dispersion_distance\"],\n",
    "        \"runtime\": result[\"runtime\"],\n",
    "        },\n",
    "    )\n",
    "\n",
    "df_sat = read_as_pandas(\"./disp_agp_benchmark_sat\",\n",
    "                       lambda result: {\n",
    "            \"instance\": result[\"parameters\"][\"args\"][\"instance_name\"],\n",
    "            \"size\": result[\"parameters\"][\"args\"][\"size\"],\n",
    "            \"backend\": result[\"parameters\"][\"args\"][\"alg_params\"][\"backend\"] + \"[Glucose4]\",\n",
    "            \"runtime\": result[\"runtime\"],\n",
    "            \"number_sat_probes\": result[\"result\"][\"number_sat_probes\"],\n",
    "            \"number_sat_solves\": result[\"result\"][\"number_sat_solves\"],\n",
    "            \"number_unsat_solves\": result[\"result\"][\"number_unsat_solves\"],\n",
    "            \"time_compute_shadow_witnesses\": result[\"result\"][\"time_compute_shadow_witnesses\"],\n",
    "            \"time_compute_witnesses\": result[\"result\"][\"time_compute_witnesses\"], # time for shadow witness + time for vispolys\n",
    "            \"time_compute_vispolys\": result[\"result\"][\"time_compute_vispolys\"],\n",
    "            \"time_unsat_solves\": result[\"result\"][\"time_unsat_solves\"],\n",
    "            \"time_sat_solves\": result[\"result\"][\"time_sat_solves\"],\n",
    "            \"time_compute_distances_from_graph\": result[\"result\"][\"time_compute_distances_from_graph\"],\n",
    "            \"time_build_distance_graph\": result[\"result\"][\"time_build_distance_graph\"],\n",
    "            \"total_model_build_time\": result[\"result\"][\"total_model_build_time\"],\n",
    "    },)"
   ]
  },
  {
   "cell_type": "code",
   "execution_count": null,
   "metadata": {},
   "outputs": [],
   "source": []
  },
  {
   "cell_type": "markdown",
   "metadata": {},
   "source": [
    "# Enriching Data"
   ]
  },
  {
   "cell_type": "code",
   "execution_count": 34,
   "metadata": {},
   "outputs": [],
   "source": [
    "def add_type(df):\n",
    "    conditions = [\n",
    "        df['instance'].str.startswith('simple'),\n",
    "        df['instance'].str.startswith('general'),\n",
    "        df['instance'].str.startswith('srpg_iso_aligned_mc'),\n",
    "        df['instance'].str.startswith('srpg_iso_aligned'),\n",
    "        df['instance'].str.startswith('srpg_iso_mc')\n",
    "    ]\n",
    "    choices = ['scot_simple','scot_general','srpg_iso_aligned_mc','srpg_iso_aligned','srpg_iso_mc']\n",
    "    choices_2 = ['scots_hole_free', 'scots', 'orthogonal', 'orthogonal_hole_free', 'orthogonal']\n",
    "    choices_3 = ['scots', 'scots', 'orthogonal', 'orthogonal', 'orthogonal']\n",
    "    df['type'] = np.select(conditions, choices, default='srpg_iso')\n",
    "    df['type_class'] = np.select(conditions, choices_2, default='orthogonal_hole_free')\n",
    "    df['general_class'] = np.select(conditions, choices_3, default='orthogonal')\n",
    "    return df\n",
    "\n",
    "df = add_type(df)\n",
    "df_sat = add_type(df_sat)\n",
    "\n",
    "df[\"backend\"] = df[\"backend\"].replace(\"MIP\", \"MIP[Gurobi]\")\n",
    "df_sat[\"backend\"] = df_sat[\"backend\"].replace(\"MIP\", \"MIP[Gurobi]\")"
   ]
  },
  {
   "cell_type": "code",
   "execution_count": 35,
   "metadata": {},
   "outputs": [
    {
     "data": {
      "text/html": [
       "<div>\n",
       "<style scoped>\n",
       "    .dataframe tbody tr th:only-of-type {\n",
       "        vertical-align: middle;\n",
       "    }\n",
       "\n",
       "    .dataframe tbody tr th {\n",
       "        vertical-align: top;\n",
       "    }\n",
       "\n",
       "    .dataframe thead th {\n",
       "        text-align: right;\n",
       "    }\n",
       "</style>\n",
       "<table border=\"1\" class=\"dataframe\">\n",
       "  <thead>\n",
       "    <tr style=\"text-align: right;\">\n",
       "      <th></th>\n",
       "      <th>instance</th>\n",
       "      <th>size</th>\n",
       "      <th>backend</th>\n",
       "      <th>obj</th>\n",
       "      <th>runtime</th>\n",
       "      <th>type</th>\n",
       "      <th>type_class</th>\n",
       "      <th>general_class</th>\n",
       "    </tr>\n",
       "  </thead>\n",
       "  <tbody>\n",
       "    <tr>\n",
       "      <th>0</th>\n",
       "      <td>srpg_iso_aligned0000035</td>\n",
       "      <td>36</td>\n",
       "      <td>CP-SAT</td>\n",
       "      <td>7000.000000</td>\n",
       "      <td>0.040223</td>\n",
       "      <td>srpg_iso_aligned</td>\n",
       "      <td>orthogonal_hole_free</td>\n",
       "      <td>orthogonal</td>\n",
       "    </tr>\n",
       "    <tr>\n",
       "      <th>1</th>\n",
       "      <td>srpg_iso_aligned0000035</td>\n",
       "      <td>36</td>\n",
       "      <td>SAT[Cadical103]</td>\n",
       "      <td>7000.000000</td>\n",
       "      <td>0.009287</td>\n",
       "      <td>srpg_iso_aligned</td>\n",
       "      <td>orthogonal_hole_free</td>\n",
       "      <td>orthogonal</td>\n",
       "    </tr>\n",
       "    <tr>\n",
       "      <th>2</th>\n",
       "      <td>srpg_iso_aligned0000035</td>\n",
       "      <td>36</td>\n",
       "      <td>SAT[Cadical153]</td>\n",
       "      <td>7000.000000</td>\n",
       "      <td>0.009014</td>\n",
       "      <td>srpg_iso_aligned</td>\n",
       "      <td>orthogonal_hole_free</td>\n",
       "      <td>orthogonal</td>\n",
       "    </tr>\n",
       "    <tr>\n",
       "      <th>3</th>\n",
       "      <td>srpg_iso_aligned0000035</td>\n",
       "      <td>36</td>\n",
       "      <td>SAT[Gluecard3]</td>\n",
       "      <td>7000.000000</td>\n",
       "      <td>0.008745</td>\n",
       "      <td>srpg_iso_aligned</td>\n",
       "      <td>orthogonal_hole_free</td>\n",
       "      <td>orthogonal</td>\n",
       "    </tr>\n",
       "    <tr>\n",
       "      <th>4</th>\n",
       "      <td>srpg_iso0000017</td>\n",
       "      <td>18</td>\n",
       "      <td>CP-SAT</td>\n",
       "      <td>6411.000000</td>\n",
       "      <td>0.021570</td>\n",
       "      <td>srpg_iso</td>\n",
       "      <td>orthogonal_hole_free</td>\n",
       "      <td>orthogonal</td>\n",
       "    </tr>\n",
       "    <tr>\n",
       "      <th>...</th>\n",
       "      <td>...</td>\n",
       "      <td>...</td>\n",
       "      <td>...</td>\n",
       "      <td>...</td>\n",
       "      <td>...</td>\n",
       "      <td>...</td>\n",
       "      <td>...</td>\n",
       "      <td>...</td>\n",
       "    </tr>\n",
       "    <tr>\n",
       "      <th>33439</th>\n",
       "      <td>general_640_17</td>\n",
       "      <td>640</td>\n",
       "      <td>MIP[Gurobi]</td>\n",
       "      <td>10000.000001</td>\n",
       "      <td>20.507051</td>\n",
       "      <td>scot_general</td>\n",
       "      <td>scots</td>\n",
       "      <td>scots</td>\n",
       "    </tr>\n",
       "    <tr>\n",
       "      <th>33440</th>\n",
       "      <td>general_640_8</td>\n",
       "      <td>640</td>\n",
       "      <td>MIP[Gurobi]</td>\n",
       "      <td>23000.000000</td>\n",
       "      <td>10.103716</td>\n",
       "      <td>scot_general</td>\n",
       "      <td>scots</td>\n",
       "      <td>scots</td>\n",
       "    </tr>\n",
       "    <tr>\n",
       "      <th>33441</th>\n",
       "      <td>general_640_3</td>\n",
       "      <td>640</td>\n",
       "      <td>MIP[Gurobi]</td>\n",
       "      <td>19000.000000</td>\n",
       "      <td>6.749513</td>\n",
       "      <td>scot_general</td>\n",
       "      <td>scots</td>\n",
       "      <td>scots</td>\n",
       "    </tr>\n",
       "    <tr>\n",
       "      <th>33442</th>\n",
       "      <td>general_640_4</td>\n",
       "      <td>640</td>\n",
       "      <td>MIP[Gurobi]</td>\n",
       "      <td>13000.000000</td>\n",
       "      <td>8.614754</td>\n",
       "      <td>scot_general</td>\n",
       "      <td>scots</td>\n",
       "      <td>scots</td>\n",
       "    </tr>\n",
       "    <tr>\n",
       "      <th>33443</th>\n",
       "      <td>general_640_10</td>\n",
       "      <td>640</td>\n",
       "      <td>MIP[Gurobi]</td>\n",
       "      <td>25000.000000</td>\n",
       "      <td>12.291382</td>\n",
       "      <td>scot_general</td>\n",
       "      <td>scots</td>\n",
       "      <td>scots</td>\n",
       "    </tr>\n",
       "  </tbody>\n",
       "</table>\n",
       "<p>33444 rows × 8 columns</p>\n",
       "</div>"
      ],
      "text/plain": [
       "                      instance  size          backend           obj   \n",
       "0      srpg_iso_aligned0000035    36           CP-SAT   7000.000000  \\\n",
       "1      srpg_iso_aligned0000035    36  SAT[Cadical103]   7000.000000   \n",
       "2      srpg_iso_aligned0000035    36  SAT[Cadical153]   7000.000000   \n",
       "3      srpg_iso_aligned0000035    36   SAT[Gluecard3]   7000.000000   \n",
       "4              srpg_iso0000017    18           CP-SAT   6411.000000   \n",
       "...                        ...   ...              ...           ...   \n",
       "33439           general_640_17   640      MIP[Gurobi]  10000.000001   \n",
       "33440            general_640_8   640      MIP[Gurobi]  23000.000000   \n",
       "33441            general_640_3   640      MIP[Gurobi]  19000.000000   \n",
       "33442            general_640_4   640      MIP[Gurobi]  13000.000000   \n",
       "33443           general_640_10   640      MIP[Gurobi]  25000.000000   \n",
       "\n",
       "         runtime              type            type_class general_class  \n",
       "0       0.040223  srpg_iso_aligned  orthogonal_hole_free    orthogonal  \n",
       "1       0.009287  srpg_iso_aligned  orthogonal_hole_free    orthogonal  \n",
       "2       0.009014  srpg_iso_aligned  orthogonal_hole_free    orthogonal  \n",
       "3       0.008745  srpg_iso_aligned  orthogonal_hole_free    orthogonal  \n",
       "4       0.021570          srpg_iso  orthogonal_hole_free    orthogonal  \n",
       "...          ...               ...                   ...           ...  \n",
       "33439  20.507051      scot_general                 scots         scots  \n",
       "33440  10.103716      scot_general                 scots         scots  \n",
       "33441   6.749513      scot_general                 scots         scots  \n",
       "33442   8.614754      scot_general                 scots         scots  \n",
       "33443  12.291382      scot_general                 scots         scots  \n",
       "\n",
       "[33444 rows x 8 columns]"
      ]
     },
     "execution_count": 35,
     "metadata": {},
     "output_type": "execute_result"
    }
   ],
   "source": [
    "df"
   ]
  },
  {
   "cell_type": "markdown",
   "metadata": {},
   "source": [
    "# General Plotting Function"
   ]
  },
  {
   "cell_type": "code",
   "execution_count": 36,
   "metadata": {},
   "outputs": [],
   "source": [
    "def plot_runtime(df, \n",
    "                 backends, # 'CP-SAT', 'MIP[Gurobi]', 'SAT[..]' \n",
    "                 instance_types, # 'scot_simple','scot_general','srpg_iso_aligned_mc','srpg_iso_aligned','srpg_iso_mc'\n",
    "                 save_path=None,\n",
    "                 ax=None, \n",
    "                 figsize=(4.5, 0.9 * 4.5),\n",
    "                 max_instance_size=1600, \n",
    "                 round_precision=ROUNDING, \n",
    "                 hue=\"backend\", \n",
    "                 hue_order=None,\n",
    "                 title=\"\", \n",
    "                 style=None, \n",
    "                 legend=True):\n",
    "    \n",
    "    # filter data set\n",
    "    df = df[(df[\"backend\"].isin(backends)) & (df[\"type\"].isin(instance_types)) & (df[\"size\"] <= max_instance_size)]\n",
    "    df[\"size_rounded\"] = df[\"size\"].apply(lambda x: (round_precision * round(x / round_precision)))\n",
    "    \n",
    "    if ax is None:\n",
    "        plt.figure(figsize=figsize)\n",
    "        ax = plt.gca()\n",
    "\n",
    "    sns.lineplot(\n",
    "        data=df,\n",
    "        x=\"size_rounded\",\n",
    "        y=\"runtime\",\n",
    "        hue=hue,\n",
    "        errorbar=None,\n",
    "        hue_order=hue_order,\n",
    "        style=style,\n",
    "        ax=ax\n",
    "    )\n",
    "    ax.set_xlabel('average size', fontsize=10, color='black')\n",
    "    ax.set_ylabel('runtime (s)', fontsize=10, color='black')\n",
    "    ax.tick_params(axis='x', colors='black')\n",
    "    ax.tick_params(axis='y', colors='black')\n",
    "    ax.set_title(title, fontsize=10)\n",
    "    if not legend:\n",
    "        ax.legend().set_visible(False)\n",
    "    else:\n",
    "        ax.legend(title=None, fontsize=7)\n",
    "    if save_path:\n",
    "        plt.savefig(save_path, bbox_inches='tight')"
   ]
  },
  {
   "cell_type": "markdown",
   "metadata": {},
   "source": [
    "# Compare SAT[Glucose4], CP-SAT, and MIP on random orthogonal polygons"
   ]
  },
  {
   "cell_type": "code",
   "execution_count": 37,
   "metadata": {},
   "outputs": [
    {
     "name": "stderr",
     "output_type": "stream",
     "text": [
      "/var/folders/fq/7rwf71g9111bgdw5xfz05kj40000gn/T/ipykernel_15801/2707112253.py:17: SettingWithCopyWarning: \n",
      "A value is trying to be set on a copy of a slice from a DataFrame.\n",
      "Try using .loc[row_indexer,col_indexer] = value instead\n",
      "\n",
      "See the caveats in the documentation: https://pandas.pydata.org/pandas-docs/stable/user_guide/indexing.html#returning-a-view-versus-a-copy\n",
      "  df[\"size_rounded\"] = df[\"size\"].apply(lambda x: (round_precision * round(x / round_precision)))\n"
     ]
    },
    {
     "data": {
      "image/png": "[encoded data removed]",
      "text/plain": [
       "<Figure size 450x300 with 1 Axes>"
      ]
     },
     "metadata": {},
     "output_type": "display_data"
    }
   ],
   "source": [
    "df[\"Instance Type\"] = df[\"type_class\"]\n",
    "df[\"Solver\"] = df[\"backend\"]\n",
    "plot_runtime(df.sort_values(\"Instance Type\"), \n",
    "            instance_types=[\"srpg_iso_aligned_mc\", \"srpg_iso_aligned\",\"srpg_iso_mc\", \"srpg_iso\", \"scot_simple\", \"scot_general\"], \n",
    "            backends=[\"CP-SAT\", \"MIP[Gurobi]\", \"SAT[Glucose4]\"], \n",
    "            max_instance_size=1600, \n",
    "            round_precision=100, \n",
    "            hue_order=[\"CP-SAT\", \"MIP[Gurobi]\", \"SAT[Glucose4]\"],\n",
    "            save_path=\"./plots/compare_cpsat_sat_mip.pdf\",\n",
    "            figsize=(4.5, 3),\n",
    "            style=\"Instance Type\",\n",
    "            hue=\"Solver\"\n",
    "            )"
   ]
  },
  {
   "cell_type": "markdown",
   "metadata": {},
   "source": [
    "# Compare SAT[Glucose4], CP-SAT, and MIP on random SCOTs"
   ]
  },
  {
   "cell_type": "code",
   "execution_count": 38,
   "metadata": {},
   "outputs": [
    {
     "name": "stderr",
     "output_type": "stream",
     "text": [
      "/var/folders/fq/7rwf71g9111bgdw5xfz05kj40000gn/T/ipykernel_15801/2707112253.py:17: SettingWithCopyWarning: \n",
      "A value is trying to be set on a copy of a slice from a DataFrame.\n",
      "Try using .loc[row_indexer,col_indexer] = value instead\n",
      "\n",
      "See the caveats in the documentation: https://pandas.pydata.org/pandas-docs/stable/user_guide/indexing.html#returning-a-view-versus-a-copy\n",
      "  df[\"size_rounded\"] = df[\"size\"].apply(lambda x: (round_precision * round(x / round_precision)))\n"
     ]
    },
    {
     "data": {
      "image/png": "[encoded data removed]",
      "text/plain": [
       "<Figure size 220x198 with 1 Axes>"
      ]
     },
     "metadata": {},
     "output_type": "display_data"
    }
   ],
   "source": [
    "plot_runtime(df, \n",
    "            instance_types=[\"scot_simple\", \"scot_general\"], \n",
    "            backends=[\"CP-SAT\", \"MIP[Gurobi]\", \"SAT[Glucose4]\"], \n",
    "            max_instance_size=1000, \n",
    "            round_precision=ROUNDING, \n",
    "            hue_order=[\"CP-SAT\", \"MIP[Gurobi]\", \"SAT[Glucose4]\"],\n",
    "            save_path=\"./plots/compare_scots_cpsat_sat_mip.pdf\",\n",
    "            figsize=(2.2, 0.9 * 2.2)\n",
    "            )"
   ]
  },
  {
   "cell_type": "markdown",
   "metadata": {},
   "source": [
    "# Compare different SAT solvers on random orthogonal polygons"
   ]
  },
  {
   "cell_type": "code",
   "execution_count": 39,
   "metadata": {},
   "outputs": [
    {
     "name": "stderr",
     "output_type": "stream",
     "text": [
      "/var/folders/fq/7rwf71g9111bgdw5xfz05kj40000gn/T/ipykernel_15801/2707112253.py:17: SettingWithCopyWarning: \n",
      "A value is trying to be set on a copy of a slice from a DataFrame.\n",
      "Try using .loc[row_indexer,col_indexer] = value instead\n",
      "\n",
      "See the caveats in the documentation: https://pandas.pydata.org/pandas-docs/stable/user_guide/indexing.html#returning-a-view-versus-a-copy\n",
      "  df[\"size_rounded\"] = df[\"size\"].apply(lambda x: (round_precision * round(x / round_precision)))\n"
     ]
    },
    {
     "data": {
      "image/png": "[encoded data removed]",
      "text/plain": [
       "<Figure size 400x300 with 1 Axes>"
      ]
     },
     "metadata": {},
     "output_type": "display_data"
    }
   ],
   "source": [
    "df2 = df.copy()\n",
    "df2[\"backend\"] = df2[\"backend\"].replace({\n",
    "    \"SAT[Cadical153]\": \"Cadical153\", \n",
    "    \"SAT[Glucose4]\": \"Glucose4\", \n",
    "    \"SAT[Lingeling]\": \"Lingeling\", \n",
    "    \"SAT[MapleCM]\": \"MapleCM\", \n",
    "    \"SAT[Minisat22]\": \"Minisat22\"\n",
    "})\n",
    "\n",
    "plot_runtime(df2, \n",
    "            instance_types=[\"srpg_iso_aligned_mc\", \"srpg_iso_aligned\",\"srpg_iso_mc\", \"srpg_iso\"], \n",
    "            backends=[\"Cadical153\", \"Glucose4\", \"Lingeling\", \"MapleCM\", \"Minisat22\"], \n",
    "            max_instance_size=1600, \n",
    "            round_precision=ROUNDING, \n",
    "            hue_order=[\"Cadical153\", \"Glucose4\", \"Lingeling\", \"MapleCM\", \"Minisat22\"],\n",
    "            save_path=\"./plots/compare_different_sat.pdf\",\n",
    "            figsize=(4,  3)\n",
    "            )"
   ]
  },
  {
   "cell_type": "markdown",
   "metadata": {},
   "source": [
    "# Different Solvers for different Polygon Classes"
   ]
  },
  {
   "cell_type": "code",
   "execution_count": 40,
   "metadata": {},
   "outputs": [
    {
     "name": "stderr",
     "output_type": "stream",
     "text": [
      "/var/folders/fq/7rwf71g9111bgdw5xfz05kj40000gn/T/ipykernel_15801/2707112253.py:17: SettingWithCopyWarning: \n",
      "A value is trying to be set on a copy of a slice from a DataFrame.\n",
      "Try using .loc[row_indexer,col_indexer] = value instead\n",
      "\n",
      "See the caveats in the documentation: https://pandas.pydata.org/pandas-docs/stable/user_guide/indexing.html#returning-a-view-versus-a-copy\n",
      "  df[\"size_rounded\"] = df[\"size\"].apply(lambda x: (round_precision * round(x / round_precision)))\n",
      "/var/folders/fq/7rwf71g9111bgdw5xfz05kj40000gn/T/ipykernel_15801/2707112253.py:17: SettingWithCopyWarning: \n",
      "A value is trying to be set on a copy of a slice from a DataFrame.\n",
      "Try using .loc[row_indexer,col_indexer] = value instead\n",
      "\n",
      "See the caveats in the documentation: https://pandas.pydata.org/pandas-docs/stable/user_guide/indexing.html#returning-a-view-versus-a-copy\n",
      "  df[\"size_rounded\"] = df[\"size\"].apply(lambda x: (round_precision * round(x / round_precision)))\n",
      "/var/folders/fq/7rwf71g9111bgdw5xfz05kj40000gn/T/ipykernel_15801/2707112253.py:17: SettingWithCopyWarning: \n",
      "A value is trying to be set on a copy of a slice from a DataFrame.\n",
      "Try using .loc[row_indexer,col_indexer] = value instead\n",
      "\n",
      "See the caveats in the documentation: https://pandas.pydata.org/pandas-docs/stable/user_guide/indexing.html#returning-a-view-versus-a-copy\n",
      "  df[\"size_rounded\"] = df[\"size\"].apply(lambda x: (round_precision * round(x / round_precision)))\n"
     ]
    },
    {
     "data": {
      "image/png": "[encoded data removed]",
      "text/plain": [
       "<Figure size 540x210 with 3 Axes>"
      ]
     },
     "metadata": {},
     "output_type": "display_data"
    }
   ],
   "source": [
    "fig, axes = plt.subplots(1, 3, figsize=(3*1.8,3* 0.5 * 1.4), sharey=False)\n",
    "\n",
    "# Compare CP-SAT performance for SCOTs and orthogonal polygons\n",
    "plot_runtime(df, \n",
    "            ax=axes[0],\n",
    "            instance_types=[\"srpg_iso_aligned_mc\", \"srpg_iso_aligned\",\"srpg_iso_mc\", \"srpg_iso\", \"scot_simple\", \"scot_general\"], \n",
    "            backends=[\"CP-SAT\"], \n",
    "            max_instance_size=1000, \n",
    "            round_precision=ROUNDING, \n",
    "            hue=\"general_class\", \n",
    "            title=\"CP-SAT\", \n",
    "            hue_order=[\"orthogonal\", \"scots\"],\n",
    "            figsize=(1.4, 0.9 * 1.4),\n",
    "            legend=False\n",
    "            )\n",
    "    \n",
    "# Compare MIP performance for SCOTs and orthogonal polygons\n",
    "plot_runtime(df2, \n",
    "            ax=axes[1],\n",
    "            instance_types=[\"srpg_iso_aligned_mc\", \"srpg_iso_aligned\",\"srpg_iso_mc\", \"srpg_iso\", \"scot_simple\", \"scot_general\"], \n",
    "            backends=[\"MIP[Gurobi]\"], \n",
    "            max_instance_size=1000, \n",
    "            round_precision=ROUNDING, \n",
    "            hue=\"general_class\", \n",
    "            title=\"MIP[Gurobi]\", \n",
    "            hue_order=[\"orthogonal\", \"scots\"],\n",
    "            figsize=(1.4, 0.9 * 1.4),\n",
    "            legend=False\n",
    "            )\n",
    "    \n",
    "# Compare SAT performance for SCOTs and orthogonal polygons\n",
    "plot_runtime(df, \n",
    "            ax=axes[2],\n",
    "            instance_types=[\"srpg_iso_aligned_mc\", \"srpg_iso_aligned\",\"srpg_iso_mc\", \"srpg_iso\", \"scot_simple\", \"scot_general\"], \n",
    "            backends=[\"SAT[Glucose4]\"], \n",
    "            max_instance_size=1600, \n",
    "            round_precision=ROUNDING, \n",
    "            hue=\"general_class\", \n",
    "            title=\"SAT[Glucose4]\", \n",
    "            hue_order=[\"orthogonal\", \"scots\"],\n",
    "            figsize=(1.4, 0.9 * 1.4),\n",
    "            legend=False\n",
    "            )\n",
    "\n",
    "fig.tight_layout()\n",
    "handles, labels = axes[0].get_legend_handles_labels()\n",
    "fig.legend(handles, labels, loc='center', bbox_to_anchor=(0.5, -0.05), ncol=len(handles), fontsize=7)\n",
    "plt.savefig(\"./plots/all_backends_merged.pdf\", bbox_inches='tight')"
   ]
  },
  {
   "cell_type": "code",
   "execution_count": 41,
   "metadata": {},
   "outputs": [
    {
     "name": "stderr",
     "output_type": "stream",
     "text": [
      "/var/folders/fq/7rwf71g9111bgdw5xfz05kj40000gn/T/ipykernel_15801/2707112253.py:17: SettingWithCopyWarning: \n",
      "A value is trying to be set on a copy of a slice from a DataFrame.\n",
      "Try using .loc[row_indexer,col_indexer] = value instead\n",
      "\n",
      "See the caveats in the documentation: https://pandas.pydata.org/pandas-docs/stable/user_guide/indexing.html#returning-a-view-versus-a-copy\n",
      "  df[\"size_rounded\"] = df[\"size\"].apply(lambda x: (round_precision * round(x / round_precision)))\n",
      "/var/folders/fq/7rwf71g9111bgdw5xfz05kj40000gn/T/ipykernel_15801/2707112253.py:17: SettingWithCopyWarning: \n",
      "A value is trying to be set on a copy of a slice from a DataFrame.\n",
      "Try using .loc[row_indexer,col_indexer] = value instead\n",
      "\n",
      "See the caveats in the documentation: https://pandas.pydata.org/pandas-docs/stable/user_guide/indexing.html#returning-a-view-versus-a-copy\n",
      "  df[\"size_rounded\"] = df[\"size\"].apply(lambda x: (round_precision * round(x / round_precision)))\n",
      "/var/folders/fq/7rwf71g9111bgdw5xfz05kj40000gn/T/ipykernel_15801/2707112253.py:17: SettingWithCopyWarning: \n",
      "A value is trying to be set on a copy of a slice from a DataFrame.\n",
      "Try using .loc[row_indexer,col_indexer] = value instead\n",
      "\n",
      "See the caveats in the documentation: https://pandas.pydata.org/pandas-docs/stable/user_guide/indexing.html#returning-a-view-versus-a-copy\n",
      "  df[\"size_rounded\"] = df[\"size\"].apply(lambda x: (round_precision * round(x / round_precision)))\n"
     ]
    },
    {
     "data": {
      "image/png": "[encoded data removed]",
      "text/plain": [
       "<Figure size 540x210 with 3 Axes>"
      ]
     },
     "metadata": {},
     "output_type": "display_data"
    }
   ],
   "source": [
    "fig, axes = plt.subplots(1, 3, figsize=(3*1.8,3* 0.5 * 1.4), sharey=False)\n",
    "\n",
    "# Compare SAT[Glucose4] performance for SCOTs and general orthogonal polygons (with and without holes, respectively)\n",
    "plot_runtime(df,\n",
    "            ax=axes[2], \n",
    "            instance_types=[\"srpg_iso_aligned_mc\", \"srpg_iso_aligned\",\"srpg_iso_mc\", \"srpg_iso\", \"scot_simple\", \"scot_general\"], \n",
    "            backends=[\"SAT[Glucose4]\"], \n",
    "            max_instance_size=1600, \n",
    "            round_precision=ROUNDING, \n",
    "            hue=\"type_class\", \n",
    "            title=\"SAT[Glucose4]\", \n",
    "            hue_order=[\"orthogonal\", \"orthogonal_hole_free\", \"scots\", \"scots_hole_free\"],\n",
    "            figsize=(1.4, 0.9 * 1.4),\n",
    "            legend=False\n",
    "            )\n",
    "\n",
    "# Compare CP-SAT performance for SCOTs and general orthogonal polygons (with and without holes, respectively)\n",
    "plot_runtime(df, \n",
    "            ax=axes[0],  \n",
    "            instance_types=[\"srpg_iso_aligned_mc\", \"srpg_iso_aligned\",\"srpg_iso_mc\", \"srpg_iso\", \"scot_simple\", \"scot_general\"], \n",
    "            backends=[\"CP-SAT\"], \n",
    "            max_instance_size=1000, \n",
    "            round_precision=ROUNDING, \n",
    "            hue=\"type_class\", \n",
    "            title=\"CP-SAT\", \n",
    "            hue_order=[\"orthogonal\", \"orthogonal_hole_free\", \"scots\", \"scots_hole_free\"],\n",
    "            figsize=(1.4, 0.9 * 1.4),\n",
    "            legend=False\n",
    "            )\n",
    "\n",
    "# Compare MIP performance for SCOTs and general orthogonal polygons (with and without holes, respectively)\n",
    "plot_runtime(df2, \n",
    "            ax=axes[1],  \n",
    "            instance_types=[\"srpg_iso_aligned_mc\", \"srpg_iso_aligned\",\"srpg_iso_mc\", \"srpg_iso\", \"scot_simple\", \"scot_general\"], \n",
    "            backends=[\"MIP[Gurobi]\"], \n",
    "            max_instance_size=1000, \n",
    "            round_precision=ROUNDING, \n",
    "            hue=\"type_class\", \n",
    "            title=\"MIP[Gurobi]\", \n",
    "            hue_order=[\"orthogonal\", \"orthogonal_hole_free\", \"scots\", \"scots_hole_free\"],\n",
    "            figsize=(1.4, 0.9 * 1.4),\n",
    "            legend=False\n",
    "            )\n",
    "\n",
    "fig.tight_layout()\n",
    "handles, labels = axes[0].get_legend_handles_labels()\n",
    "fig.legend(handles, labels, loc='center', bbox_to_anchor=(0.5, -0.05), ncol=len(handles), fontsize=7)\n",
    "plt.savefig(\"./plots/all_backends.pdf\", bbox_inches='tight')"
   ]
  },
  {
   "cell_type": "markdown",
   "metadata": {},
   "source": [
    "# Compute Runtime Statistics during SAT Solve"
   ]
  },
  {
   "cell_type": "code",
   "execution_count": 42,
   "metadata": {},
   "outputs": [],
   "source": [
    "def compute_avg_phase_lengths(df, min_size=0, max_size=1600):\n",
    "    df = df[(df['size'] >= min_size) & (df['size'] <= max_size)]\n",
    "    avg_solve_sat = df[\"time_sat_solves\"].mean()\n",
    "    avg_solve_unsat = df[\"time_unsat_solves\"].mean()\n",
    "    avg_solve = avg_solve_sat + avg_solve_unsat\n",
    "    avg_witnesses = df[\"time_compute_witnesses\"].mean()\n",
    "    avg_remainder = df[\"runtime\"].mean() - avg_solve - avg_witnesses\n",
    "    return avg_solve, avg_solve_sat, avg_solve_unsat, avg_witnesses, avg_remainder\n",
    "\n",
    "s_avg_solve, s_avg_solve_sat, s_avg_solve_unsat, s_avg_witnesses, s_avg_remainder = compute_avg_phase_lengths(df_sat, min_size=1, max_size=800)\n",
    "l_avg_solve, l_avg_solve_sat, l_avg_solve_unsat, l_avg_witnesses, l_avg_remainder = compute_avg_phase_lengths(df_sat, min_size=801, max_size=1600)"
   ]
  },
  {
   "cell_type": "code",
   "execution_count": 43,
   "metadata": {},
   "outputs": [
    {
     "data": {
      "text/plain": [
       "(0.0069343831607652446,\n",
       " 0.0008570584464227855,\n",
       " 0.006077324714342459,\n",
       " 2.6364250366504374,\n",
       " 3.6525743966637325)"
      ]
     },
     "execution_count": 43,
     "metadata": {},
     "output_type": "execute_result"
    }
   ],
   "source": [
    "l_avg_solve, l_avg_solve_sat, l_avg_solve_unsat, l_avg_witnesses, l_avg_remainder"
   ]
  },
  {
   "cell_type": "code",
   "execution_count": 44,
   "metadata": {},
   "outputs": [
    {
     "data": {
      "text/html": [
       "<div>\n",
       "<style scoped>\n",
       "    .dataframe tbody tr th:only-of-type {\n",
       "        vertical-align: middle;\n",
       "    }\n",
       "\n",
       "    .dataframe tbody tr th {\n",
       "        vertical-align: top;\n",
       "    }\n",
       "\n",
       "    .dataframe thead th {\n",
       "        text-align: right;\n",
       "    }\n",
       "</style>\n",
       "<table border=\"1\" class=\"dataframe\">\n",
       "  <thead>\n",
       "    <tr style=\"text-align: right;\">\n",
       "      <th></th>\n",
       "      <th>size</th>\n",
       "      <th>runtime</th>\n",
       "      <th>number_sat_probes</th>\n",
       "      <th>number_sat_solves</th>\n",
       "      <th>number_unsat_solves</th>\n",
       "      <th>time_compute_shadow_witnesses</th>\n",
       "      <th>time_compute_witnesses</th>\n",
       "      <th>time_compute_vispolys</th>\n",
       "      <th>time_unsat_solves</th>\n",
       "      <th>time_sat_solves</th>\n",
       "      <th>time_compute_distances_from_graph</th>\n",
       "      <th>time_build_distance_graph</th>\n",
       "      <th>total_model_build_time</th>\n",
       "    </tr>\n",
       "  </thead>\n",
       "  <tbody>\n",
       "    <tr>\n",
       "      <th>count</th>\n",
       "      <td>189.000000</td>\n",
       "      <td>189.000000</td>\n",
       "      <td>189.000000</td>\n",
       "      <td>189.000000</td>\n",
       "      <td>189.000000</td>\n",
       "      <td>189.000000</td>\n",
       "      <td>189.000000</td>\n",
       "      <td>189.000000</td>\n",
       "      <td>189.000000</td>\n",
       "      <td>189.000000</td>\n",
       "      <td>189.000000</td>\n",
       "      <td>189.000000</td>\n",
       "      <td>189.000000</td>\n",
       "    </tr>\n",
       "    <tr>\n",
       "      <th>mean</th>\n",
       "      <td>1576.000000</td>\n",
       "      <td>10.516238</td>\n",
       "      <td>14.656085</td>\n",
       "      <td>3.111111</td>\n",
       "      <td>11.544974</td>\n",
       "      <td>0.335372</td>\n",
       "      <td>4.380344</td>\n",
       "      <td>4.044973</td>\n",
       "      <td>0.008925</td>\n",
       "      <td>0.001216</td>\n",
       "      <td>0.517038</td>\n",
       "      <td>0.784241</td>\n",
       "      <td>3.419894</td>\n",
       "    </tr>\n",
       "    <tr>\n",
       "      <th>std</th>\n",
       "      <td>46.820617</td>\n",
       "      <td>1.045595</td>\n",
       "      <td>2.860819</td>\n",
       "      <td>1.377375</td>\n",
       "      <td>2.402202</td>\n",
       "      <td>0.208389</td>\n",
       "      <td>0.420722</td>\n",
       "      <td>0.300723</td>\n",
       "      <td>0.001118</td>\n",
       "      <td>0.000805</td>\n",
       "      <td>0.046398</td>\n",
       "      <td>0.073599</td>\n",
       "      <td>0.590340</td>\n",
       "    </tr>\n",
       "    <tr>\n",
       "      <th>min</th>\n",
       "      <td>1500.000000</td>\n",
       "      <td>7.632078</td>\n",
       "      <td>8.000000</td>\n",
       "      <td>1.000000</td>\n",
       "      <td>6.000000</td>\n",
       "      <td>0.162426</td>\n",
       "      <td>3.624151</td>\n",
       "      <td>3.458831</td>\n",
       "      <td>0.005971</td>\n",
       "      <td>0.000243</td>\n",
       "      <td>0.396835</td>\n",
       "      <td>0.661525</td>\n",
       "      <td>2.073651</td>\n",
       "    </tr>\n",
       "    <tr>\n",
       "      <th>25%</th>\n",
       "      <td>1524.000000</td>\n",
       "      <td>9.979589</td>\n",
       "      <td>15.000000</td>\n",
       "      <td>2.000000</td>\n",
       "      <td>11.000000</td>\n",
       "      <td>0.183886</td>\n",
       "      <td>4.094475</td>\n",
       "      <td>3.858687</td>\n",
       "      <td>0.008308</td>\n",
       "      <td>0.000771</td>\n",
       "      <td>0.481758</td>\n",
       "      <td>0.725335</td>\n",
       "      <td>3.142726</td>\n",
       "    </tr>\n",
       "    <tr>\n",
       "      <th>50%</th>\n",
       "      <td>1564.000000</td>\n",
       "      <td>10.545898</td>\n",
       "      <td>16.000000</td>\n",
       "      <td>3.000000</td>\n",
       "      <td>12.000000</td>\n",
       "      <td>0.299993</td>\n",
       "      <td>4.318667</td>\n",
       "      <td>4.036356</td>\n",
       "      <td>0.008949</td>\n",
       "      <td>0.000958</td>\n",
       "      <td>0.523482</td>\n",
       "      <td>0.788662</td>\n",
       "      <td>3.458129</td>\n",
       "    </tr>\n",
       "    <tr>\n",
       "      <th>75%</th>\n",
       "      <td>1604.000000</td>\n",
       "      <td>11.354132</td>\n",
       "      <td>16.000000</td>\n",
       "      <td>4.000000</td>\n",
       "      <td>13.000000</td>\n",
       "      <td>0.344540</td>\n",
       "      <td>4.652258</td>\n",
       "      <td>4.253440</td>\n",
       "      <td>0.009619</td>\n",
       "      <td>0.001337</td>\n",
       "      <td>0.551294</td>\n",
       "      <td>0.810993</td>\n",
       "      <td>3.671633</td>\n",
       "    </tr>\n",
       "    <tr>\n",
       "      <th>max</th>\n",
       "      <td>1696.000000</td>\n",
       "      <td>12.880016</td>\n",
       "      <td>19.000000</td>\n",
       "      <td>7.000000</td>\n",
       "      <td>15.000000</td>\n",
       "      <td>1.315365</td>\n",
       "      <td>6.080416</td>\n",
       "      <td>4.765051</td>\n",
       "      <td>0.012786</td>\n",
       "      <td>0.004631</td>\n",
       "      <td>0.615725</td>\n",
       "      <td>0.988429</td>\n",
       "      <td>5.297310</td>\n",
       "    </tr>\n",
       "  </tbody>\n",
       "</table>\n",
       "</div>"
      ],
      "text/plain": [
       "              size     runtime  number_sat_probes  number_sat_solves   \n",
       "count   189.000000  189.000000         189.000000         189.000000  \\\n",
       "mean   1576.000000   10.516238          14.656085           3.111111   \n",
       "std      46.820617    1.045595           2.860819           1.377375   \n",
       "min    1500.000000    7.632078           8.000000           1.000000   \n",
       "25%    1524.000000    9.979589          15.000000           2.000000   \n",
       "50%    1564.000000   10.545898          16.000000           3.000000   \n",
       "75%    1604.000000   11.354132          16.000000           4.000000   \n",
       "max    1696.000000   12.880016          19.000000           7.000000   \n",
       "\n",
       "       number_unsat_solves  time_compute_shadow_witnesses   \n",
       "count           189.000000                     189.000000  \\\n",
       "mean             11.544974                       0.335372   \n",
       "std               2.402202                       0.208389   \n",
       "min               6.000000                       0.162426   \n",
       "25%              11.000000                       0.183886   \n",
       "50%              12.000000                       0.299993   \n",
       "75%              13.000000                       0.344540   \n",
       "max              15.000000                       1.315365   \n",
       "\n",
       "       time_compute_witnesses  time_compute_vispolys  time_unsat_solves   \n",
       "count              189.000000             189.000000         189.000000  \\\n",
       "mean                 4.380344               4.044973           0.008925   \n",
       "std                  0.420722               0.300723           0.001118   \n",
       "min                  3.624151               3.458831           0.005971   \n",
       "25%                  4.094475               3.858687           0.008308   \n",
       "50%                  4.318667               4.036356           0.008949   \n",
       "75%                  4.652258               4.253440           0.009619   \n",
       "max                  6.080416               4.765051           0.012786   \n",
       "\n",
       "       time_sat_solves  time_compute_distances_from_graph   \n",
       "count       189.000000                         189.000000  \\\n",
       "mean          0.001216                           0.517038   \n",
       "std           0.000805                           0.046398   \n",
       "min           0.000243                           0.396835   \n",
       "25%           0.000771                           0.481758   \n",
       "50%           0.000958                           0.523482   \n",
       "75%           0.001337                           0.551294   \n",
       "max           0.004631                           0.615725   \n",
       "\n",
       "       time_build_distance_graph  total_model_build_time  \n",
       "count                 189.000000              189.000000  \n",
       "mean                    0.784241                3.419894  \n",
       "std                     0.073599                0.590340  \n",
       "min                     0.661525                2.073651  \n",
       "25%                     0.725335                3.142726  \n",
       "50%                     0.788662                3.458129  \n",
       "75%                     0.810993                3.671633  \n",
       "max                     0.988429                5.297310  "
      ]
     },
     "execution_count": 44,
     "metadata": {},
     "output_type": "execute_result"
    }
   ],
   "source": [
    "t = df_sat[df_sat[\"size\"]>=1500]\n",
    "t.describe()"
   ]
  },
  {
   "cell_type": "code",
   "execution_count": null,
   "metadata": {},
   "outputs": [
    {
     "data": {
      "image/png": "[encoded data removed]",
      "text/plain": [
       "<Figure size 600x200 with 1 Axes>"
      ]
     },
     "metadata": {},
     "output_type": "display_data"
    }
   ],
   "source": [
    "def plot_stacked_bar(runtimes, labels=None, colors=None):\n",
    "    if colors is None:\n",
    "        colors = plt.cm.viridis(np.linspace(0, 1, len(runtimes)))\n",
    "\n",
    "    fig, ax = plt.subplots(figsize=(6, 2))\n",
    "    left_positions = np.cumsum([0] + runtimes[:-1])\n",
    "    ax.barh(0, runtimes, left=left_positions, color=colors, edgecolor='black')\n",
    "\n",
    "    ax.set_yticks([])\n",
    "    ax.set_xticks([])\n",
    "    ax.set_xlim(0, sum(runtimes))\n",
    "    ax.set_frame_on(False)\n",
    "\n",
    "    if labels:\n",
    "        handles = [plt.Rectangle((0, 0), 1, 1, color=colors[i]) for i in range(len(labels))]\n",
    "        ax.legend(handles, labels, loc='lower center', bbox_to_anchor=(0.5, -0.4), ncol=len(labels), frameon=False)\n",
    "\n",
    "    for i, runtime in enumerate(runtimes):\n",
    "        x_pos = left_positions[i] + runtime / 2\n",
    "        ax.text(x_pos, -0.5, f'{runtime:.2f}', ha='center', va='center', fontsize=10, color='black')\n",
    "\n",
    "    plt.show()\n"
   ]
  },
  {
   "cell_type": "code",
   "execution_count": null,
   "metadata": {},
   "outputs": [],
   "source": [
    "solve = t[\"time_sat_solves\"].mean() + t[\"time_unsat_solves\"].mean()\n",
    "model_build = t[\"total_model_build_time\"].mean()\n",
    "vis_polys = t[\"time_compute_vispolys\"].mean()\n",
    "shadow_witnesses = t[\"time_compute_shadow_witnesses\"].mean()\n",
    "distances = t[\"time_compute_distances_from_graph\"].mean() + t[\"time_build_distance_graph\"].mean()\n",
    "remainder = t[\"runtime\"].mean() - solve - model_build - vis_polys - shadow_witnesses - distances\n",
    "runtimes = [solve, model_build, vis_polys, shadow_witnesses, distances, remainder]\n",
    "labels = [\"Solve\", \"ModelBuild\", \"VisPolys\", \"ShadowWitnesses\", \"Distances\", \"Remainder\"]\n",
    "plot_stacked_bar(runtimes, labels)"
   ]
  },
  {
   "cell_type": "markdown",
   "metadata": {},
   "source": [
    "# Impact of computing Witnesses for the Runtime"
   ]
  },
  {
   "cell_type": "code",
   "execution_count": 46,
   "metadata": {},
   "outputs": [
    {
     "data": {
      "image/png": "[encoded data removed]",
      "text/plain": [
       "<Figure size 220x198 with 1 Axes>"
      ]
     },
     "metadata": {},
     "output_type": "display_data"
    }
   ],
   "source": [
    "import pandas as pd\n",
    "df = pd.DataFrame({\n",
    "    \"Size\": [\"small\", \"small\", \"large\", \"large\"],\n",
    "    \"Phase\": [\"witnesses\", \"remainder\"] * 2,\n",
    "    \"Runtime\": [s_avg_witnesses, s_avg_remainder + s_avg_solve, l_avg_witnesses, l_avg_remainder + l_avg_solve]\n",
    "})\n",
    "\n",
    "df_pivot = df.pivot(index=\"Size\", columns=\"Phase\", values=\"Runtime\")\n",
    "df_pivot.plot(kind=\"bar\", stacked=True, figsize=(2.2, 0.9 * 2.2))\n",
    "\n",
    "plt.xlabel(\"\")\n",
    "plt.ylabel(\"time (s)\")\n",
    "plt.legend(title=\"\", bbox_to_anchor=(1.05, 1), loc=\"upper left\", fontsize=7)\n",
    "plt.show()"
   ]
  },
  {
   "cell_type": "code",
   "execution_count": 47,
   "metadata": {},
   "outputs": [
    {
     "data": {
      "text/html": [
       "<div>\n",
       "<style scoped>\n",
       "    .dataframe tbody tr th:only-of-type {\n",
       "        vertical-align: middle;\n",
       "    }\n",
       "\n",
       "    .dataframe tbody tr th {\n",
       "        vertical-align: top;\n",
       "    }\n",
       "\n",
       "    .dataframe thead th {\n",
       "        text-align: right;\n",
       "    }\n",
       "</style>\n",
       "<table border=\"1\" class=\"dataframe\">\n",
       "  <thead>\n",
       "    <tr style=\"text-align: right;\">\n",
       "      <th></th>\n",
       "      <th>Size</th>\n",
       "      <th>Phase</th>\n",
       "      <th>Runtime</th>\n",
       "    </tr>\n",
       "  </thead>\n",
       "  <tbody>\n",
       "    <tr>\n",
       "      <th>0</th>\n",
       "      <td>small</td>\n",
       "      <td>witnesses</td>\n",
       "      <td>0.392400</td>\n",
       "    </tr>\n",
       "    <tr>\n",
       "      <th>1</th>\n",
       "      <td>small</td>\n",
       "      <td>remainder</td>\n",
       "      <td>0.422884</td>\n",
       "    </tr>\n",
       "    <tr>\n",
       "      <th>2</th>\n",
       "      <td>large</td>\n",
       "      <td>witnesses</td>\n",
       "      <td>2.636425</td>\n",
       "    </tr>\n",
       "    <tr>\n",
       "      <th>3</th>\n",
       "      <td>large</td>\n",
       "      <td>remainder</td>\n",
       "      <td>3.659509</td>\n",
       "    </tr>\n",
       "  </tbody>\n",
       "</table>\n",
       "</div>"
      ],
      "text/plain": [
       "    Size      Phase   Runtime\n",
       "0  small  witnesses  0.392400\n",
       "1  small  remainder  0.422884\n",
       "2  large  witnesses  2.636425\n",
       "3  large  remainder  3.659509"
      ]
     },
     "execution_count": 47,
     "metadata": {},
     "output_type": "execute_result"
    }
   ],
   "source": [
    "df"
   ]
  },
  {
   "cell_type": "code",
   "execution_count": 48,
   "metadata": {},
   "outputs": [
    {
     "data": {
      "image/png": "[encoded data removed]",
      "text/plain": [
       "<Figure size 500x198 with 2 Axes>"
      ]
     },
     "metadata": {},
     "output_type": "display_data"
    }
   ],
   "source": [
    "sizes = ['small', 'large']\n",
    "witnesses = [s_avg_witnesses,l_avg_witnesses]\n",
    "remainder = [s_avg_remainder + s_avg_solve, l_avg_remainder + l_avg_solve]\n",
    "\n",
    "fig, axs = plt.subplots(1, 2, figsize=(5, 0.9 * 2.2))\n",
    "\n",
    "for i, size in enumerate(sizes):\n",
    "    ax = axs[i]\n",
    "    ax.pie([witnesses[i], remainder[i]], labels=['witnesses', 'remainder'], autopct='%1.1f%%', startangle=90)\n",
    "    ax.set_title(size)\n",
    "\n",
    "plt.tight_layout()\n",
    "plt.show()"
   ]
  },
  {
   "cell_type": "markdown",
   "metadata": {},
   "source": [
    "# Ratio between SAT and UNSAT solves"
   ]
  },
  {
   "cell_type": "code",
   "execution_count": 49,
   "metadata": {},
   "outputs": [
    {
     "data": {
      "image/png": "[encoded data removed]",
      "text/plain": [
       "<Figure size 500x198 with 2 Axes>"
      ]
     },
     "metadata": {},
     "output_type": "display_data"
    }
   ],
   "source": [
    "sat = [s_avg_solve_sat,l_avg_solve_sat]\n",
    "unsat = [s_avg_solve_unsat,l_avg_solve_unsat]\n",
    "\n",
    "fig, axs = plt.subplots(1, 2, figsize=(5, 0.9 * 2.2))\n",
    "\n",
    "for i, size in enumerate(sizes):\n",
    "    ax = axs[i]\n",
    "    ax.pie([sat[i], unsat[i]], labels=['sat', 'unsat'], autopct='%1.1f%%', startangle=90)\n",
    "    ax.set_title(size)\n",
    "\n",
    "plt.tight_layout()\n",
    "plt.show()"
   ]
  }
 ],
 "metadata": {
  "kernelspec": {
   "display_name": "Python 3",
   "language": "python",
   "name": "python3"
  },
  "language_info": {
   "codemirror_mode": {
    "name": "ipython",
    "version": 3
   },
   "file_extension": ".py",
   "mimetype": "text/x-python",
   "name": "python",
   "nbconvert_exporter": "python",
   "pygments_lexer": "ipython3",
   "version": "3.10.10"
  }
 },
 "nbformat": 4,
 "nbformat_minor": 2
}
